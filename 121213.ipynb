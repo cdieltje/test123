{
 "cells": [
  {
   "cell_type": "markdown",
   "id": "88a9b017",
   "metadata": {},
   "source": [
    "SQL: Schrijf een query die onderstaand overzicht van employees met hun managers voer deze query ook uit in Python.\n",
    "firstname_employee , lastname_employee, firstname_manager, lastname_manager, "
   ]
  },
  {
   "cell_type": "code",
   "execution_count": 2,
   "id": "e4c184f2",
   "metadata": {},
   "outputs": [
    {
     "data": {
      "text/html": [
       "<div>\n",
       "<style scoped>\n",
       "    .dataframe tbody tr th:only-of-type {\n",
       "        vertical-align: middle;\n",
       "    }\n",
       "\n",
       "    .dataframe tbody tr th {\n",
       "        vertical-align: top;\n",
       "    }\n",
       "\n",
       "    .dataframe thead th {\n",
       "        text-align: right;\n",
       "    }\n",
       "</style>\n",
       "<table border=\"1\" class=\"dataframe\">\n",
       "  <thead>\n",
       "    <tr style=\"text-align: right;\">\n",
       "      <th></th>\n",
       "      <th>FirstName_Employee</th>\n",
       "      <th>LastName_Employee</th>\n",
       "      <th>FirstName_Manager</th>\n",
       "      <th>LastName_Manager</th>\n",
       "    </tr>\n",
       "  </thead>\n",
       "  <tbody>\n",
       "    <tr>\n",
       "      <th>0</th>\n",
       "      <td>Nancy</td>\n",
       "      <td>Edwards</td>\n",
       "      <td>Andrew</td>\n",
       "      <td>Adams</td>\n",
       "    </tr>\n",
       "    <tr>\n",
       "      <th>1</th>\n",
       "      <td>Jane</td>\n",
       "      <td>Peacock</td>\n",
       "      <td>Nancy</td>\n",
       "      <td>Edwards</td>\n",
       "    </tr>\n",
       "    <tr>\n",
       "      <th>2</th>\n",
       "      <td>Margaret</td>\n",
       "      <td>Park</td>\n",
       "      <td>Nancy</td>\n",
       "      <td>Edwards</td>\n",
       "    </tr>\n",
       "    <tr>\n",
       "      <th>3</th>\n",
       "      <td>Steve</td>\n",
       "      <td>Johnson</td>\n",
       "      <td>Nancy</td>\n",
       "      <td>Edwards</td>\n",
       "    </tr>\n",
       "    <tr>\n",
       "      <th>4</th>\n",
       "      <td>Michael</td>\n",
       "      <td>Mitchell</td>\n",
       "      <td>Andrew</td>\n",
       "      <td>Adams</td>\n",
       "    </tr>\n",
       "    <tr>\n",
       "      <th>5</th>\n",
       "      <td>Robert</td>\n",
       "      <td>King</td>\n",
       "      <td>Michael</td>\n",
       "      <td>Mitchell</td>\n",
       "    </tr>\n",
       "    <tr>\n",
       "      <th>6</th>\n",
       "      <td>Laura</td>\n",
       "      <td>Callahan</td>\n",
       "      <td>Michael</td>\n",
       "      <td>Mitchell</td>\n",
       "    </tr>\n",
       "  </tbody>\n",
       "</table>\n",
       "</div>"
      ],
      "text/plain": [
       "  FirstName_Employee LastName_Employee FirstName_Manager LastName_Manager\n",
       "0              Nancy           Edwards            Andrew            Adams\n",
       "1               Jane           Peacock             Nancy          Edwards\n",
       "2           Margaret              Park             Nancy          Edwards\n",
       "3              Steve           Johnson             Nancy          Edwards\n",
       "4            Michael          Mitchell            Andrew            Adams\n",
       "5             Robert              King           Michael         Mitchell\n",
       "6              Laura          Callahan           Michael         Mitchell"
      ]
     },
     "metadata": {},
     "output_type": "display_data"
    },
    {
     "data": {
      "text/plain": [
       "'C:\\\\Users\\\\CarloDieltjens\\\\OneDrive - Bmatix\\\\Documenten\\\\Opleiding\\\\Data scientist\\\\Python Scripts'"
      ]
     },
     "execution_count": 2,
     "metadata": {},
     "output_type": "execute_result"
    }
   ],
   "source": [
    "import sqlite3\n",
    "import pandas as pd\n",
    "\n",
    "chinook = \"C:\\\\Users\\\\CarloDieltjens\\\\OneDrive - Bmatix\\\\Documenten\\\\Opleiding\\\\Data scientist\\\\Files\\\\chinook.db\" # open db with DB Browser\n",
    "query = \"select a.FirstName as FirstName_Employee, a.LastName as LastName_Employee, /*a.EmployeeId, a.ReportsTo, */b.FirstName as FirstName_Manager, b.LastName as LastName_Manager from employees a, employees b where a.ReportsTo = b.EmployeeId\"\n",
    "\n",
    "conn = sqlite3.connect(chinook)\n",
    "\n",
    "df = pd.read_sql_query(query, conn)\n",
    "\n",
    "display(df)\n",
    "conn.close()\n"
   ]
  },
  {
   "cell_type": "markdown",
   "id": "82d0f5f6",
   "metadata": {},
   "source": [
    "OEFENING IMAGES BLZ. 266"
   ]
  },
  {
   "cell_type": "code",
   "execution_count": 3,
   "id": "097df028",
   "metadata": {},
   "outputs": [
    {
     "ename": "ValueError",
     "evalue": "Unknown resampling filter (200). Use Image.Resampling.NEAREST (0), Image.Resampling.LANCZOS (1), Image.Resampling.BILINEAR (2), Image.Resampling.BICUBIC (3), Image.Resampling.BOX (4) or Image.Resampling.HAMMING (5)",
     "output_type": "error",
     "traceback": [
      "\u001b[1;31m---------------------------------------------------------------------------\u001b[0m",
      "\u001b[1;31mValueError\u001b[0m                                Traceback (most recent call last)",
      "Cell \u001b[1;32mIn[3], line 24\u001b[0m\n\u001b[0;32m     20\u001b[0m roi \u001b[38;5;241m=\u001b[39m overlay\u001b[38;5;241m.\u001b[39mcrop((\u001b[38;5;241m400\u001b[39m, \u001b[38;5;241m400\u001b[39m, \u001b[38;5;241m500\u001b[39m, \u001b[38;5;241m500\u001b[39m))\n\u001b[0;32m     21\u001b[0m \u001b[38;5;66;03m#roi.show()\u001b[39;00m\n\u001b[0;32m     22\u001b[0m \n\u001b[0;32m     23\u001b[0m     \u001b[38;5;66;03m# Resize the cropped region\u001b[39;00m\n\u001b[1;32m---> 24\u001b[0m resized_roi \u001b[38;5;241m=\u001b[39m \u001b[43mroi\u001b[49m\u001b[38;5;241;43m.\u001b[39;49m\u001b[43mresize\u001b[49m\u001b[43m(\u001b[49m\u001b[38;5;241;43m200\u001b[39;49m\u001b[43m,\u001b[49m\u001b[43m \u001b[49m\u001b[38;5;241;43m200\u001b[39;49m\u001b[43m)\u001b[49m\n\u001b[0;32m     25\u001b[0m resized_roi\u001b[38;5;241m.\u001b[39mshow()\n\u001b[0;32m     27\u001b[0m     \u001b[38;5;66;03m# Paste the resized region back into the original image\u001b[39;00m\n",
      "File \u001b[1;32m~\\anaconda3\\lib\\site-packages\\PIL\\Image.py:2148\u001b[0m, in \u001b[0;36mImage.resize\u001b[1;34m(self, size, resample, box, reducing_gap)\u001b[0m\n\u001b[0;32m   2136\u001b[0m     filters \u001b[38;5;241m=\u001b[39m [\n\u001b[0;32m   2137\u001b[0m         \u001b[38;5;124mf\u001b[39m\u001b[38;5;124m\"\u001b[39m\u001b[38;5;132;01m{\u001b[39;00m\u001b[38;5;28mfilter\u001b[39m[\u001b[38;5;241m1\u001b[39m]\u001b[38;5;132;01m}\u001b[39;00m\u001b[38;5;124m (\u001b[39m\u001b[38;5;132;01m{\u001b[39;00m\u001b[38;5;28mfilter\u001b[39m[\u001b[38;5;241m0\u001b[39m]\u001b[38;5;132;01m}\u001b[39;00m\u001b[38;5;124m)\u001b[39m\u001b[38;5;124m\"\u001b[39m\n\u001b[0;32m   2138\u001b[0m         \u001b[38;5;28;01mfor\u001b[39;00m \u001b[38;5;28mfilter\u001b[39m \u001b[38;5;129;01min\u001b[39;00m (\n\u001b[1;32m   (...)\u001b[0m\n\u001b[0;32m   2145\u001b[0m         )\n\u001b[0;32m   2146\u001b[0m     ]\n\u001b[0;32m   2147\u001b[0m     msg \u001b[38;5;241m+\u001b[39m\u001b[38;5;241m=\u001b[39m \u001b[38;5;124m\"\u001b[39m\u001b[38;5;124m Use \u001b[39m\u001b[38;5;124m\"\u001b[39m \u001b[38;5;241m+\u001b[39m \u001b[38;5;124m\"\u001b[39m\u001b[38;5;124m, \u001b[39m\u001b[38;5;124m\"\u001b[39m\u001b[38;5;241m.\u001b[39mjoin(filters[:\u001b[38;5;241m-\u001b[39m\u001b[38;5;241m1\u001b[39m]) \u001b[38;5;241m+\u001b[39m \u001b[38;5;124m\"\u001b[39m\u001b[38;5;124m or \u001b[39m\u001b[38;5;124m\"\u001b[39m \u001b[38;5;241m+\u001b[39m filters[\u001b[38;5;241m-\u001b[39m\u001b[38;5;241m1\u001b[39m]\n\u001b[1;32m-> 2148\u001b[0m     \u001b[38;5;28;01mraise\u001b[39;00m \u001b[38;5;167;01mValueError\u001b[39;00m(msg)\n\u001b[0;32m   2150\u001b[0m \u001b[38;5;28;01mif\u001b[39;00m reducing_gap \u001b[38;5;129;01mis\u001b[39;00m \u001b[38;5;129;01mnot\u001b[39;00m \u001b[38;5;28;01mNone\u001b[39;00m \u001b[38;5;129;01mand\u001b[39;00m reducing_gap \u001b[38;5;241m<\u001b[39m \u001b[38;5;241m1.0\u001b[39m:\n\u001b[0;32m   2151\u001b[0m     msg \u001b[38;5;241m=\u001b[39m \u001b[38;5;124m\"\u001b[39m\u001b[38;5;124mreducing_gap must be 1.0 or greater\u001b[39m\u001b[38;5;124m\"\u001b[39m\n",
      "\u001b[1;31mValueError\u001b[0m: Unknown resampling filter (200). Use Image.Resampling.NEAREST (0), Image.Resampling.LANCZOS (1), Image.Resampling.BILINEAR (2), Image.Resampling.BICUBIC (3), Image.Resampling.BOX (4) or Image.Resampling.HAMMING (5)"
     ]
    }
   ],
   "source": [
    "import PIL\n",
    "from PIL import Image\n",
    "\n",
    "# cool = PIL.Image.open(\"C:\\\\Users\\\\CarloDieltjens\\\\OneDrive - Bmatix\\\\Documenten\\\\Opleiding\\\\Data scientist\\\\Python Scripts\\\\cool.png\")\n",
    "# moose = PIL.Image.open(\"C:\\\\Users\\\\CarloDieltjens\\\\OneDrive - Bmatix\\\\Documenten\\\\Opleiding\\\\Data scientist\\\\Python Scripts\\\\moose.png\")\n",
    "\n",
    "# new_cool = cool.resize((500, 500))\n",
    "# new_cool.show()\n",
    "# moose.show() \n",
    "\n",
    "overlay = Image.open(\"C:\\\\Users\\\\CarloDieltjens\\\\OneDrive - Bmatix\\\\Documenten\\\\Opleiding\\\\Data scientist\\\\Python Scripts\\\\cool.png\")\n",
    "background = Image.open(\"C:\\\\Users\\\\CarloDieltjens\\\\OneDrive - Bmatix\\\\Documenten\\\\Opleiding\\\\Data scientist\\\\Python Scripts\\\\moose.png\")\n",
    "\n",
    "background = background.resize((500, 500))\n",
    "overlay = overlay.resize((500, 500))\n",
    "\n",
    "#def resize_part_of_image(input_path, output_path, box, new_size):\n",
    "\n",
    "    # Crop the region of interest (box is a tuple (left, upper, right, lower))\n",
    "roi = overlay.crop((400, 400, 500, 500))\n",
    "#roi.show()\n",
    "\n",
    "    # Resize the cropped region\n",
    "resized_roi = roi.resize(200, 200)\n",
    "resized_roi.show()\n",
    "\n",
    "    # Paste the resized region back into the original image\n",
    "image.paste(resized_roi, box)\n",
    "\n",
    "    # Save the modified image\n",
    "    #image.save(output_path)\n",
    "\n",
    "resized_roi.show()\n",
    "\n",
    "#resize_part_of_image(overlay)\n",
    "\n",
    "background = background.convert(\"RGBA\")\n",
    "overlay = overlay.convert(\"RGBA\")\n",
    "\n",
    "coolmoose = Image.blend(background, overlay, 0.7)\n",
    "coolmoose.save(\"new.png\",\"PNG\")\n",
    "# coolmoose.show()\n",
    "\n"
   ]
  },
  {
   "cell_type": "code",
   "execution_count": 53,
   "id": "7dec080a",
   "metadata": {},
   "outputs": [],
   "source": [
    "overlay = Image.open(\"C:\\\\Users\\\\CarloDieltjens\\\\OneDrive - Bmatix\\\\Documenten\\\\Opleiding\\\\Data scientist\\\\Python Scripts\\\\cool.png\")\n",
    "background = Image.open(\"C:\\\\Users\\\\CarloDieltjens\\\\OneDrive - Bmatix\\\\Documenten\\\\Opleiding\\\\Data scientist\\\\Python Scripts\\\\moose.png\")\n",
    "\n",
    "background = background.resize((500, 500))\n",
    "overlay = overlay.resize((500, 500))\n",
    "\n",
    "#def resize_part_of_image(input_path, output_path, box, new_size):\n",
    "\n",
    "# Crop the region of interest (box is a tuple (left, upper, right, lower))\n",
    "roi = overlay.crop((100, 100, 300, 300))"
   ]
  },
  {
   "cell_type": "code",
   "execution_count": null,
   "id": "f1ce50cc",
   "metadata": {},
   "outputs": [],
   "source": []
  }
 ],
 "metadata": {
  "kernelspec": {
   "display_name": "Python 3 (ipykernel)",
   "language": "python",
   "name": "python3"
  },
  "language_info": {
   "codemirror_mode": {
    "name": "ipython",
    "version": 3
   },
   "file_extension": ".py",
   "mimetype": "text/x-python",
   "name": "python",
   "nbconvert_exporter": "python",
   "pygments_lexer": "ipython3",
   "version": "3.10.9"
  }
 },
 "nbformat": 4,
 "nbformat_minor": 5
}
